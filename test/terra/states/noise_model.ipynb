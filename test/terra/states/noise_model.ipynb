{
 "cells": [
  {
   "cell_type": "code",
   "execution_count": 1,
   "id": "976161ef-1cd0-4446-9a52-4b9fa6899f44",
   "metadata": {},
   "outputs": [],
   "source": [
    "import numpy as np\n",
    "from qiskit import QuantumCircuit, transpile\n",
    "from qiskit.quantum_info import Kraus, SuperOp, Statevector, DensityMatrix\n",
    "from qiskit.providers.aer import AerSimulator\n",
    "from qiskit.tools.visualization import plot_histogram\n",
    "\n",
    "# Import from Qiskit Aer noise module\n",
    "from qiskit.providers.aer.noise import NoiseModel\n",
    "from qiskit.providers.aer.noise import QuantumError, ReadoutError\n",
    "from qiskit.providers.aer.noise import pauli_error\n",
    "from qiskit.providers.aer.noise import depolarizing_error\n",
    "from qiskit.providers.aer.noise import thermal_relaxation_error"
   ]
  },
  {
   "cell_type": "code",
   "execution_count": 2,
   "id": "13125ab2-70e4-4bfb-b5a5-f6188b46f8b0",
   "metadata": {},
   "outputs": [
    {
     "data": {
      "text/latex": [
       "$$ |0\\rangle$$"
      ],
      "text/plain": [
       "<IPython.core.display.Latex object>"
      ]
     },
     "execution_count": 2,
     "metadata": {},
     "output_type": "execute_result"
    }
   ],
   "source": [
    "qc = QuantumCircuit(1)\n",
    "qc.id(0)\n",
    "sv = Statevector(qc)\n",
    "sv.draw('latex')"
   ]
  },
  {
   "cell_type": "code",
   "execution_count": 3,
   "id": "05b4ae01-cfc5-4e08-9da1-7b4275550438",
   "metadata": {},
   "outputs": [
    {
     "name": "stdout",
     "output_type": "stream",
     "text": [
      "{'1': 62, '0': 962}\n"
     ]
    }
   ],
   "source": [
    "p_meas = 0.05\n",
    "error_meas = pauli_error([('X', p_meas), ('I', 1 - p_meas)])\n",
    "noise_bit_flip = NoiseModel()\n",
    "noise_bit_flip.add_all_qubit_quantum_error(error_meas, 'measure')\n",
    "sim_noise = AerSimulator(noise_model=noise_bit_flip)\n",
    "\n",
    "qc = QuantumCircuit(1)\n",
    "qc.id(0)\n",
    "qc.measure_all()\n",
    "circ_tnoise = transpile(qc, sim_noise)\n",
    "\n",
    "#sv = Statevector(circ_tnoise)\n",
    "#display(sv.draw('latex'))\n",
    "\n",
    "print(sim_noise.run(circ_tnoise).result().get_counts())"
   ]
  },
  {
   "cell_type": "code",
   "execution_count": 4,
   "id": "c252cd12-d5ac-4ee5-8b00-00a3f5536810",
   "metadata": {},
   "outputs": [
    {
     "data": {
      "text/latex": [
       "$$\n",
       "\n",
       "\\begin{bmatrix}\n",
       "1 & 0  \\\\\n",
       " 0 & 0  \\\\\n",
       " \\end{bmatrix}\n",
       "$$"
      ],
      "text/plain": [
       "<IPython.core.display.Latex object>"
      ]
     },
     "execution_count": 4,
     "metadata": {},
     "output_type": "execute_result"
    }
   ],
   "source": [
    "qc = QuantumCircuit(1)\n",
    "qc.id(0)\n",
    "dm = DensityMatrix(qc)\n",
    "dm.draw('latex')"
   ]
  },
  {
   "cell_type": "code",
   "execution_count": 5,
   "id": "56445f85-de9d-4d48-b825-f7d01303c750",
   "metadata": {},
   "outputs": [],
   "source": [
    "p_error = 0.05\n",
    "bit_flip = pauli_error([('X', p_error), ('I', 1 - p_error)])\n",
    "bit_flip_kraus = Kraus(bit_flip)"
   ]
  },
  {
   "cell_type": "code",
   "execution_count": 6,
   "id": "960b39a3-f9b8-4a34-a049-a3bf98b31fbd",
   "metadata": {},
   "outputs": [
    {
     "data": {
      "text/latex": [
       "$$\n",
       "\n",
       "\\begin{bmatrix}\n",
       "0.95 & 0  \\\\\n",
       " 0 & 0.05  \\\\\n",
       " \\end{bmatrix}\n",
       "$$"
      ],
      "text/plain": [
       "<IPython.core.display.Latex object>"
      ]
     },
     "execution_count": 6,
     "metadata": {},
     "output_type": "execute_result"
    }
   ],
   "source": [
    "dm.evolve(bit_flip_kraus).draw('latex')"
   ]
  },
  {
   "cell_type": "code",
   "execution_count": 7,
   "id": "cb7e0a54-0f69-4d89-98d9-b7468d3a1d44",
   "metadata": {},
   "outputs": [
    {
     "data": {
      "text/plain": [
       "array([[0.95, 0.  ],\n",
       "       [0.  , 0.05]])"
      ]
     },
     "execution_count": 7,
     "metadata": {},
     "output_type": "execute_result"
    }
   ],
   "source": [
    "zero = np.array([[1, 0]])\n",
    "one = np.array([[0, 1]])\n",
    "\n",
    "(1-p_error) * zero.T@zero + p_error * one.T@one"
   ]
  },
  {
   "cell_type": "code",
   "execution_count": 8,
   "id": "4b81e824-4e30-4418-b301-6149c3b1c2ae",
   "metadata": {},
   "outputs": [
    {
     "data": {
      "text/latex": [
       "$$\n",
       "\n",
       "\\begin{bmatrix}\n",
       "1 & 0  \\\\\n",
       " 0 & 0  \\\\\n",
       " \\end{bmatrix}\n",
       "$$"
      ],
      "text/plain": [
       "<IPython.core.display.Latex object>"
      ]
     },
     "execution_count": 8,
     "metadata": {},
     "output_type": "execute_result"
    }
   ],
   "source": [
    "error_meas = pauli_error([('X', p_meas), ('I', 1 - p_meas)])\n",
    "noise_bit_flip = NoiseModel()\n",
    "noise_bit_flip.add_all_qubit_quantum_error(error_meas, 'measure')\n",
    "sim_noise = AerSimulator(noise_model=noise_bit_flip)\n",
    "\n",
    "qc = QuantumCircuit(1)\n",
    "qc.id(0)\n",
    "circ_tnoise = transpile(qc, sim_noise)\n",
    "\n",
    "dm = DensityMatrix(circ_tnoise)\n",
    "dm.draw('latex')"
   ]
  },
  {
   "cell_type": "code",
   "execution_count": null,
   "id": "81b188a0-17eb-4637-bf9d-0abcc2bbd3ad",
   "metadata": {},
   "outputs": [],
   "source": []
  }
 ],
 "metadata": {
  "kernelspec": {
   "display_name": "Python 3 (ipykernel)",
   "language": "python",
   "name": "python3"
  },
  "language_info": {
   "codemirror_mode": {
    "name": "ipython",
    "version": 3
   },
   "file_extension": ".py",
   "mimetype": "text/x-python",
   "name": "python",
   "nbconvert_exporter": "python",
   "pygments_lexer": "ipython3",
   "version": "3.9.13"
  }
 },
 "nbformat": 4,
 "nbformat_minor": 5
}
