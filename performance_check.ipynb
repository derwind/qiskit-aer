{
 "cells": [
  {
   "cell_type": "code",
   "execution_count": 1,
   "id": "c0f8c22d-3533-441d-97f4-28f74ee79869",
   "metadata": {},
   "outputs": [],
   "source": [
    "from qiskit import QuantumCircuit\n",
    "from qiskit.quantum_info import Statevector\n",
    "from qiskit_aer.quantum_info import AerStatevector\n",
    "from qiskit.circuit.library import QuantumVolume"
   ]
  },
  {
   "cell_type": "code",
   "execution_count": 2,
   "id": "8518e098-7e57-4bd0-ada9-4d4fbb0da770",
   "metadata": {},
   "outputs": [
    {
     "name": "stdout",
     "output_type": "stream",
     "text": [
      "1.29 ms ± 7.51 µs per loop (mean ± std. dev. of 7 runs, 1,000 loops each)\n"
     ]
    }
   ],
   "source": [
    "qc = QuantumVolume(5, seed=1111)\n",
    "%timeit state = Statevector(qc)"
   ]
  },
  {
   "cell_type": "code",
   "execution_count": 3,
   "id": "f8ae50f6-f3d9-4b6c-9ce6-f21969d02771",
   "metadata": {},
   "outputs": [
    {
     "name": "stdout",
     "output_type": "stream",
     "text": [
      "290 µs ± 5.98 µs per loop (mean ± std. dev. of 7 runs, 1,000 loops each)\n"
     ]
    }
   ],
   "source": [
    "qc = QuantumVolume(5, seed=1111)\n",
    "%timeit state = AerStatevector(qc)"
   ]
  },
  {
   "cell_type": "code",
   "execution_count": 4,
   "id": "9093f9d6-bc62-42f1-b0c7-28296ed177e2",
   "metadata": {},
   "outputs": [
    {
     "name": "stdout",
     "output_type": "stream",
     "text": [
      "66.1 ms ± 1.2 ms per loop (mean ± std. dev. of 7 runs, 10 loops each)\n"
     ]
    }
   ],
   "source": [
    "qc = QuantumVolume(15, seed=1111)\n",
    "%timeit state = Statevector(qc)"
   ]
  },
  {
   "cell_type": "code",
   "execution_count": 5,
   "id": "b59771ca-7c42-4282-b574-e70942faee12",
   "metadata": {},
   "outputs": [
    {
     "name": "stdout",
     "output_type": "stream",
     "text": [
      "30.7 ms ± 204 µs per loop (mean ± std. dev. of 7 runs, 10 loops each)\n"
     ]
    }
   ],
   "source": [
    "qc = QuantumVolume(15, seed=1111)\n",
    "%timeit state = AerStatevector(qc)"
   ]
  },
  {
   "cell_type": "code",
   "execution_count": 6,
   "id": "c11a705f-a4a2-445c-93c8-aaa24f6ae114",
   "metadata": {},
   "outputs": [
    {
     "name": "stdout",
     "output_type": "stream",
     "text": [
      "3.38 s ± 60.6 ms per loop (mean ± std. dev. of 7 runs, 1 loop each)\n"
     ]
    }
   ],
   "source": [
    "qc = QuantumVolume(20, seed=1111)\n",
    "%timeit state = Statevector(qc)"
   ]
  },
  {
   "cell_type": "code",
   "execution_count": 7,
   "id": "35211a2e-5b41-48b5-9b89-c2311fa5782c",
   "metadata": {},
   "outputs": [
    {
     "name": "stdout",
     "output_type": "stream",
     "text": [
      "1.83 s ± 8.06 ms per loop (mean ± std. dev. of 7 runs, 1 loop each)\n"
     ]
    }
   ],
   "source": [
    "qc = QuantumVolume(20, seed=1111)\n",
    "%timeit state = AerStatevector(qc)"
   ]
  },
  {
   "cell_type": "code",
   "execution_count": 8,
   "id": "9c4891f7-2ba1-40b6-8de2-d305563e87ce",
   "metadata": {},
   "outputs": [
    {
     "name": "stdout",
     "output_type": "stream",
     "text": [
      "15.3 s ± 97.1 ms per loop (mean ± std. dev. of 7 runs, 1 loop each)\n"
     ]
    }
   ],
   "source": [
    "qc = QuantumVolume(21, seed=1111)\n",
    "%timeit state = Statevector(qc)"
   ]
  },
  {
   "cell_type": "code",
   "execution_count": 9,
   "id": "3ea30b4a-8c89-4b3e-82b2-a3effb8dccee",
   "metadata": {},
   "outputs": [
    {
     "name": "stdout",
     "output_type": "stream",
     "text": [
      "3.93 s ± 8.35 ms per loop (mean ± std. dev. of 7 runs, 1 loop each)\n"
     ]
    }
   ],
   "source": [
    "qc = QuantumVolume(21, seed=1111)\n",
    "%timeit state = AerStatevector(qc)"
   ]
  }
 ],
 "metadata": {
  "kernelspec": {
   "display_name": "Python 3 (ipykernel)",
   "language": "python",
   "name": "python3"
  },
  "language_info": {
   "codemirror_mode": {
    "name": "ipython",
    "version": 3
   },
   "file_extension": ".py",
   "mimetype": "text/x-python",
   "name": "python",
   "nbconvert_exporter": "python",
   "pygments_lexer": "ipython3",
   "version": "3.9.13"
  }
 },
 "nbformat": 4,
 "nbformat_minor": 5
}
