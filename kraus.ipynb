{
 "cells": [
  {
   "cell_type": "code",
   "execution_count": 1,
   "id": "528e9a8d-1c3c-4669-be91-049fe921be58",
   "metadata": {},
   "outputs": [],
   "source": [
    "from qiskit import QuantumCircuit\n",
    "from qiskit.quantum_info import Kraus, DensityMatrix, partial_trace\n",
    "import numpy as np"
   ]
  },
  {
   "cell_type": "code",
   "execution_count": 2,
   "id": "0e7501b5-23c8-49ea-b1dd-344acb9aac46",
   "metadata": {},
   "outputs": [],
   "source": [
    "I = np.array([\n",
    "    [1, 0],\n",
    "    [0, 1]\n",
    "])\n",
    "X = np.array([\n",
    "    [0, 1],\n",
    "    [1, 0]\n",
    "])\n",
    "\n",
    "noise_ops0 = [np.sqrt(0.9)*I, np.sqrt(0.1)*X]\n",
    "kraus0 = Kraus(noise_ops0)\n",
    "noise_ops1 = [np.sqrt(0.8)*I, np.sqrt(0.2)*X]\n",
    "kraus1 = Kraus(noise_ops1)"
   ]
  },
  {
   "cell_type": "code",
   "execution_count": 3,
   "id": "9278ff30-6638-4af5-af98-0b06a567a09a",
   "metadata": {},
   "outputs": [
    {
     "data": {
      "text/plain": [
       "<qiskit.circuit.instructionset.InstructionSet at 0x7f4c279298b0>"
      ]
     },
     "execution_count": 3,
     "metadata": {},
     "output_type": "execute_result"
    }
   ],
   "source": [
    "qc = QuantumCircuit(2)\n",
    "qc_noise = QuantumCircuit(2)\n",
    "qc_noise.append(kraus0, [0])\n",
    "qc_noise.append(kraus1, [1])"
   ]
  },
  {
   "cell_type": "code",
   "execution_count": 4,
   "id": "ce9b25fb-9d7c-4a90-aa33-7d4c87f20aa3",
   "metadata": {},
   "outputs": [
    {
     "name": "stdout",
     "output_type": "stream",
     "text": [
      "dm=DensityMatrix([[1.+0.j, 0.+0.j, 0.+0.j, 0.+0.j],\n",
      "               [0.+0.j, 0.+0.j, 0.+0.j, 0.+0.j],\n",
      "               [0.+0.j, 0.+0.j, 0.+0.j, 0.+0.j],\n",
      "               [0.+0.j, 0.+0.j, 0.+0.j, 0.+0.j]],\n",
      "              dims=(2, 2))\n",
      "dm_noise=DensityMatrix([[0.72+0.j, 0.  +0.j, 0.  +0.j, 0.  +0.j],\n",
      "               [0.  +0.j, 0.08+0.j, 0.  +0.j, 0.  +0.j],\n",
      "               [0.  +0.j, 0.  +0.j, 0.18+0.j, 0.  +0.j],\n",
      "               [0.  +0.j, 0.  +0.j, 0.  +0.j, 0.02+0.j]],\n",
      "              dims=(2, 2))\n"
     ]
    }
   ],
   "source": [
    "dm = DensityMatrix(qc)\n",
    "print(f'{dm=}')\n",
    "dm_noise = DensityMatrix(qc_noise)\n",
    "print(f'{dm_noise=}')"
   ]
  },
  {
   "cell_type": "code",
   "execution_count": 5,
   "id": "ab64fd86-8106-4b1f-a9d6-dcab0ae63fa8",
   "metadata": {},
   "outputs": [
    {
     "data": {
      "text/plain": [
       "((1+0j), (0.5575999999999997+0j))"
      ]
     },
     "execution_count": 5,
     "metadata": {},
     "output_type": "execute_result"
    }
   ],
   "source": [
    "dm.purity(), dm_noise.purity()"
   ]
  },
  {
   "cell_type": "code",
   "execution_count": 6,
   "id": "ef3e101d-d0c7-45a4-ad0a-fe6c208e10ab",
   "metadata": {},
   "outputs": [
    {
     "name": "stdout",
     "output_type": "stream",
     "text": [
      "DensityMatrix([[1.+0.j, 0.+0.j],\n",
      "               [0.+0.j, 0.+0.j]],\n",
      "              dims=(2,))\n",
      "DensityMatrix([[1.+0.j, 0.+0.j],\n",
      "               [0.+0.j, 0.+0.j]],\n",
      "              dims=(2,))\n",
      "Statevector([1.+0.j, 0.+0.j],\n",
      "            dims=(2,))\n",
      "Statevector([1.+0.j, 0.+0.j],\n",
      "            dims=(2,))\n"
     ]
    }
   ],
   "source": [
    "dm0 = partial_trace(dm, [1])\n",
    "dm1 = partial_trace(dm, [0])\n",
    "print(dm0)\n",
    "print(dm1)\n",
    "if np.isclose(dm0.purity(), 1):\n",
    "    sv0 = dm0.to_statevector()\n",
    "    print(sv0)\n",
    "if np.isclose(dm1.purity(), 1):\n",
    "    sv1 = dm1.to_statevector()\n",
    "    print(sv1)"
   ]
  },
  {
   "cell_type": "code",
   "execution_count": 7,
   "id": "5ada6888-e23a-4674-97e2-499f4fa448a0",
   "metadata": {},
   "outputs": [
    {
     "name": "stdout",
     "output_type": "stream",
     "text": [
      "DensityMatrix([[0.9+0.j, 0. +0.j],\n",
      "               [0. +0.j, 0.1+0.j]],\n",
      "              dims=(2,))\n",
      "DensityMatrix([[0.8+0.j, 0. +0.j],\n",
      "               [0. +0.j, 0.2+0.j]],\n",
      "              dims=(2,))\n"
     ]
    }
   ],
   "source": [
    "dm_noise0 = partial_trace(dm_noise, [1])\n",
    "dm_noise1 = partial_trace(dm_noise, [0])\n",
    "print(dm_noise0)\n",
    "print(dm_noise1)\n",
    "if np.isclose(dm_noise0.purity(), 1):\n",
    "    sv0 = dm_noise0.to_statevector()\n",
    "    print(sv0)\n",
    "if np.isclose(dm_noise1.purity(), 1):\n",
    "    sv1 = dm_noise1.to_statevector()\n",
    "    print(sv1)"
   ]
  }
 ],
 "metadata": {
  "kernelspec": {
   "display_name": "Python 3 (ipykernel)",
   "language": "python",
   "name": "python3"
  },
  "language_info": {
   "codemirror_mode": {
    "name": "ipython",
    "version": 3
   },
   "file_extension": ".py",
   "mimetype": "text/x-python",
   "name": "python",
   "nbconvert_exporter": "python",
   "pygments_lexer": "ipython3",
   "version": "3.9.13"
  }
 },
 "nbformat": 4,
 "nbformat_minor": 5
}
