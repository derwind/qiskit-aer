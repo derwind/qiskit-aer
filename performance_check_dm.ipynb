{
 "cells": [
  {
   "cell_type": "code",
   "execution_count": null,
   "id": "c0f8c22d-3533-441d-97f4-28f74ee79869",
   "metadata": {},
   "outputs": [],
   "source": [
    "from qiskit import QuantumCircuit\n",
    "from qiskit.quantum_info import DensityMatrix\n",
    "from qiskit_aer.quantum_info import AerDensityMatrix\n",
    "from qiskit.circuit.library import QuantumVolume"
   ]
  },
  {
   "cell_type": "code",
   "execution_count": null,
   "id": "8518e098-7e57-4bd0-ada9-4d4fbb0da770",
   "metadata": {},
   "outputs": [],
   "source": [
    "qc = QuantumVolume(5, seed=1111)\n",
    "%timeit state = DensityMatrix(qc)"
   ]
  },
  {
   "cell_type": "code",
   "execution_count": null,
   "id": "f8ae50f6-f3d9-4b6c-9ce6-f21969d02771",
   "metadata": {},
   "outputs": [],
   "source": [
    "qc = QuantumVolume(5, seed=1111)\n",
    "%timeit state = AerDensityMatrix(qc)"
   ]
  },
  {
   "cell_type": "code",
   "execution_count": null,
   "id": "9093f9d6-bc62-42f1-b0c7-28296ed177e2",
   "metadata": {},
   "outputs": [],
   "source": [
    "qc = QuantumVolume(7, seed=1111)\n",
    "%timeit state = DensityMatrix(qc)"
   ]
  },
  {
   "cell_type": "code",
   "execution_count": null,
   "id": "b59771ca-7c42-4282-b574-e70942faee12",
   "metadata": {},
   "outputs": [],
   "source": [
    "qc = QuantumVolume(7, seed=1111)\n",
    "%timeit state = AerDensityMatrix(qc)"
   ]
  },
  {
   "cell_type": "code",
   "execution_count": null,
   "id": "c11a705f-a4a2-445c-93c8-aaa24f6ae114",
   "metadata": {},
   "outputs": [],
   "source": [
    "qc = QuantumVolume(20, seed=1111)\n",
    "%timeit state = DensityMatrix(qc)"
   ]
  },
  {
   "cell_type": "code",
   "execution_count": null,
   "id": "35211a2e-5b41-48b5-9b89-c2311fa5782c",
   "metadata": {},
   "outputs": [],
   "source": [
    "qc = QuantumVolume(20, seed=1111)\n",
    "%timeit state = AerDensityMatrix(qc)"
   ]
  },
  {
   "cell_type": "code",
   "execution_count": null,
   "id": "9c4891f7-2ba1-40b6-8de2-d305563e87ce",
   "metadata": {},
   "outputs": [],
   "source": [
    "qc = QuantumVolume(21, seed=1111)\n",
    "%timeit state = DensityMatrix(qc)"
   ]
  },
  {
   "cell_type": "code",
   "execution_count": null,
   "id": "3ea30b4a-8c89-4b3e-82b2-a3effb8dccee",
   "metadata": {},
   "outputs": [],
   "source": [
    "qc = QuantumVolume(21, seed=1111)\n",
    "%timeit state = AerDensityMatrix(qc)"
   ]
  }
 ],
 "metadata": {
  "kernelspec": {
   "display_name": "Python 3 (ipykernel)",
   "language": "python",
   "name": "python3"
  },
  "language_info": {
   "codemirror_mode": {
    "name": "ipython",
    "version": 3
   },
   "file_extension": ".py",
   "mimetype": "text/x-python",
   "name": "python",
   "nbconvert_exporter": "python",
   "pygments_lexer": "ipython3",
   "version": "3.9.13"
  }
 },
 "nbformat": 4,
 "nbformat_minor": 5
}
