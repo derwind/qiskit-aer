{
 "cells": [
  {
   "cell_type": "code",
   "execution_count": null,
   "id": "c0f8c22d-3533-441d-97f4-28f74ee79869",
   "metadata": {},
   "outputs": [],
   "source": [
    "from qiskit import QuantumCircuit\n",
    "from qiskit.quantum_info import DensityMatrix\n",
    "from qiskit_aer.quantum_info import AerDensityMatrix\n",
    "from qiskit.circuit.library import QuantumVolume"
   ]
  },
  {
   "cell_type": "markdown",
   "id": "f287a882-a9e7-4df0-91a6-758b45946d91",
   "metadata": {},
   "source": [
    "## 1 quibit circuits"
   ]
  },
  {
   "cell_type": "code",
   "execution_count": null,
   "id": "0f1a4653-91cb-4389-9ed0-16ece45f5338",
   "metadata": {},
   "outputs": [],
   "source": [
    "qc = QuantumVolume(1, seed=1111)\n",
    "%timeit -o DensityMatrix(qc)"
   ]
  },
  {
   "cell_type": "code",
   "execution_count": null,
   "id": "5385f71d-5bfb-4b45-9078-4804e2b736e1",
   "metadata": {},
   "outputs": [],
   "source": [
    "qc = QuantumVolume(1, seed=1111)\n",
    "%timeit -o AerDensityMatrix(qc)"
   ]
  },
  {
   "cell_type": "markdown",
   "id": "8a2e4ffd-fe5e-4362-b84a-8c93878617f3",
   "metadata": {},
   "source": [
    "## 2 quibits circuits"
   ]
  },
  {
   "cell_type": "code",
   "execution_count": null,
   "id": "981a5c23-3a16-448c-a38e-c1893911f0b1",
   "metadata": {},
   "outputs": [],
   "source": [
    "qc = QuantumVolume(2, seed=1111)\n",
    "%timeit -o DensityMatrix(qc)"
   ]
  },
  {
   "cell_type": "code",
   "execution_count": null,
   "id": "f68b1fbd-a9f3-456a-854f-9ccf90837a0f",
   "metadata": {},
   "outputs": [],
   "source": [
    "qc = QuantumVolume(2, seed=1111)\n",
    "%timeit -o AerDensityMatrix(qc)"
   ]
  },
  {
   "cell_type": "markdown",
   "id": "50438c7d-045f-4551-8709-cca1bb537f58",
   "metadata": {},
   "source": [
    "## More quibits circuits"
   ]
  },
  {
   "cell_type": "code",
   "execution_count": null,
   "id": "adf12526-d179-4856-8c1a-76f7ca2b277f",
   "metadata": {},
   "outputs": [],
   "source": [
    "import psutil\n",
    "import numpy as np\n",
    "\n",
    "mem = psutil.virtual_memory()\n",
    "# assume 'sys.getsizeof(1j) * 2^(2*n) <= mem.free' is safe\n",
    "# 32 * 2^(2*n) <= mem.free\n",
    "max_qubits = int(np.log2(mem.free / sys.getsizeof(1j)) // 2)\n",
    "print(f'{max_qubits=}')\n",
    "n_qubits_range = range(1, max_qubits+1)"
   ]
  },
  {
   "cell_type": "code",
   "execution_count": null,
   "id": "6c477ccd-d1d4-455f-970e-98c5842131b8",
   "metadata": {},
   "outputs": [],
   "source": [
    "if False:\n",
    "    qc = QuantumVolume(13, seed=1111)\n",
    "    %timeit -n 1 -r 1 DensityMatrix(qc) #=> 7min 7s ± 0 ns per loop (mean ± std. dev. of 1 run, 1 loop each)\n",
    "\n",
    "if False:\n",
    "    qc = QuantumVolume(13, seed=1111)\n",
    "    %timeit -n 1 -r 1 AerDensityMatrix(qc) #=> 2min 44s ± 0 ns per loop (mean ± std. dev. of 1 run, 1 loop each)\n",
    "\n",
    "if False:\n",
    "    qc = QuantumVolume(14, seed=1111)\n",
    "    %timeit -n 1 -r 1 DensityMatrix(qc) #=> 36min ± 0 ns per loop (mean ± std. dev. of 1 run, 1 loop each)\n",
    "\n",
    "if False:\n",
    "    qc = QuantumVolume(14, seed=1111)\n",
    "    %timeit -n 1 -r 1 AerDensityMatrix(qc) #=> 13min 28s ± 0 ns per loop (mean ± std. dev. of 1 run, 1 loop each)"
   ]
  },
  {
   "cell_type": "code",
   "execution_count": null,
   "id": "1a5e71c3-7465-48eb-93c9-962e80629015",
   "metadata": {},
   "outputs": [],
   "source": [
    "results_dm = []\n",
    "results_adm = []\n",
    "\n",
    "for n_qubits in n_qubits_range:\n",
    "    qc = QuantumVolume(n_qubits, seed=1111)\n",
    "    if n_qubits <= 10:\n",
    "        result = %timeit -o DensityMatrix(qc)\n",
    "        results_dm.append([result.average, result.stdev])\n",
    "        result = %timeit -o AerDensityMatrix(qc)\n",
    "        results_adm.append([result.average, result.stdev])\n",
    "    else:\n",
    "        result = %timeit -n 1 -r 1 -o DensityMatrix(qc)\n",
    "        results_dm.append([result.average, result.stdev])\n",
    "        result = %timeit -n 1 -r 1 -o AerDensityMatrix(qc)\n",
    "        results_adm.append([result.average, result.stdev])"
   ]
  },
  {
   "cell_type": "code",
   "execution_count": null,
   "id": "d07dc40c-db49-48ca-b2f4-98fbd20123cb",
   "metadata": {},
   "outputs": [],
   "source": [
    "import pickle\n",
    "\n",
    "with open('results_dm.pkl', 'wb') as fout:\n",
    "    pickle.dump(results_dm, fout)\n",
    "with open('results_adm.pkl', 'wb') as fout:\n",
    "    pickle.dump(results_adm, fout)"
   ]
  },
  {
   "cell_type": "code",
   "execution_count": null,
   "id": "66d20e75-c0a4-4a07-b26d-6f13218c6bb5",
   "metadata": {},
   "outputs": [],
   "source": [
    "import pickle\n",
    "\n",
    "with open('results_dm.pkl', 'rb') as fin:\n",
    "    results_dm = pickle.load(fin)\n",
    "with open('results_adm.pkl', 'rb') as fin:\n",
    "    results_adm = pickle.load(fin)"
   ]
  },
  {
   "cell_type": "code",
   "execution_count": null,
   "id": "78662fa6-f663-4697-babf-2f61a9012b29",
   "metadata": {},
   "outputs": [],
   "source": [
    "import numpy as np\n",
    "import matplotlib.pyplot as plt\n",
    "\n",
    "n_qubits_range = range(1, len(results_dm)+1)\n",
    "\n",
    "if isinstance(results_dm, list):\n",
    "    results_dm = np.array(results_dm)\n",
    "if isinstance(results_adm, list):\n",
    "    results_adm = np.array(results_adm)\n",
    "\n",
    "fig, ax = plt.subplots()\n",
    "ax.errorbar(x=n_qubits, y=results_dm[:, 0], yerr=results_dm[:, 1], fmt='-o', color='b')\n",
    "ax.errorbar(x=n_qubits, y=results_adm[:, 0], yerr=results_adm[:, 1], fmt='-o', color='r')\n",
    "ax.set_xlabel('num of qubits')\n",
    "ax.set_ylabel('elapsed mean/stdev time [s]')\n",
    "ax.set_title('Performance comparison between DensityMatrix and AerDensityMatrix')\n",
    "ax.legend(['DensityMatrix', 'AerDensityMatrix'])\n",
    "plt.grid()\n",
    "plt.show()"
   ]
  }
 ],
 "metadata": {
  "kernelspec": {
   "display_name": "Python 3 (ipykernel)",
   "language": "python",
   "name": "python3"
  },
  "language_info": {
   "codemirror_mode": {
    "name": "ipython",
    "version": 3
   },
   "file_extension": ".py",
   "mimetype": "text/x-python",
   "name": "python",
   "nbconvert_exporter": "python",
   "pygments_lexer": "ipython3",
   "version": "3.9.13"
  }
 },
 "nbformat": 4,
 "nbformat_minor": 5
}
