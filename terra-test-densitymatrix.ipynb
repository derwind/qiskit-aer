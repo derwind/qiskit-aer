{
 "cells": [
  {
   "cell_type": "code",
   "execution_count": null,
   "id": "12f1990d-29a5-42aa-a72a-b96d06f710e2",
   "metadata": {},
   "outputs": [],
   "source": [
    "import numpy as np\n",
    "from numpy.testing import assert_allclose\n",
    "\n",
    "from qiskit import QiskitError\n",
    "from qiskit import QuantumRegister, QuantumCircuit\n",
    "from qiskit.circuit.library import HGate, QFT\n",
    "\n",
    "from qiskit.quantum_info.random import random_unitary, random_density_matrix, random_pauli\n",
    "from qiskit.quantum_info.states import DensityMatrix, Statevector\n",
    "from qiskit.quantum_info.operators.operator import Operator\n",
    "from qiskit.quantum_info.operators.symplectic import Pauli, SparsePauliOp"
   ]
  },
  {
   "cell_type": "code",
   "execution_count": null,
   "id": "d60f0ef6-ea26-4753-bd28-ffaeee5c00d9",
   "metadata": {},
   "outputs": [],
   "source": [
    "def rand_vec(n, normalize=False):\n",
    "    \"\"\"Return complex vector or statevector\"\"\"\n",
    "    seed = np.random.randint(0, np.iinfo(np.int32).max)\n",
    "    rng = np.random.default_rng(seed)\n",
    "    vec = rng.random(n) + 1j * rng.random(n)\n",
    "    if normalize:\n",
    "        vec /= np.sqrt(np.dot(vec, np.conj(vec)))\n",
    "    return vec\n",
    "\n",
    "def rand_rho(n):\n",
    "        \"\"\"Return random pure state density matrix\"\"\"\n",
    "        rho = rand_vec(n, normalize=True)\n",
    "        return np.outer(rho, np.conjugate(rho))"
   ]
  },
  {
   "cell_type": "code",
   "execution_count": null,
   "id": "56938248-2b53-4b9d-9207-0f6747e81e92",
   "metadata": {},
   "outputs": [],
   "source": [
    "print(np.sum([np.abs(a)**2 for a in rand_vec(3, True)]))\n",
    "print(np.trace(rand_rho(3)))"
   ]
  },
  {
   "cell_type": "code",
   "execution_count": null,
   "id": "88932165-addf-4667-98d1-9c8018d77c3e",
   "metadata": {},
   "outputs": [],
   "source": [
    "\"\"\"Test subsystem initialization from N-qubit array.\"\"\"\n",
    "# Test automatic inference of qubit subsystems\n",
    "rho = rand_rho(8)\n",
    "for dims in [None, 8]:\n",
    "    state = DensityMatrix(rho, dims=dims)\n",
    "    assert_allclose(state.data, rho)\n",
    "    assert state.dim == 8\n",
    "    assert state.dims() == (2, 2, 2)\n",
    "    assert state.num_qubits == 3"
   ]
  },
  {
   "cell_type": "code",
   "execution_count": null,
   "id": "74e55c81-30b2-48b4-978d-2ebc584acb83",
   "metadata": {},
   "outputs": [],
   "source": [
    "\"\"\"Test initialization from array.\"\"\"\n",
    "rho = rand_rho(3)\n",
    "state = DensityMatrix(rho)\n",
    "assert_allclose(state.data, rho)\n",
    "assert state.dim == 3\n",
    "assert state.dims() == (3,)\n",
    "assert state.num_qubits == None\n",
    "\n",
    "rho = rand_rho(2 * 3 * 4)\n",
    "state = DensityMatrix(rho, dims=[2, 3, 4])\n",
    "assert_allclose(state.data, rho)\n",
    "assert state.dim == 2 * 3 * 4\n",
    "assert state.dims() == (2, 3, 4)\n",
    "assert state.num_qubits == None"
   ]
  },
  {
   "cell_type": "code",
   "execution_count": null,
   "id": "b9b642aa-e672-4e52-a767-d10e6c6499ca",
   "metadata": {},
   "outputs": [],
   "source": [
    "\"\"\"Test initialization exception from array.\"\"\"\n",
    "rho = rand_rho(4)\n",
    "try:\n",
    "    DensityMatrix(rho, dims=[4, 2])\n",
    "except QiskitError:\n",
    "    pass\n",
    "try:\n",
    "    DensityMatrix(rho, dims=[2, 4])\n",
    "except QiskitError:\n",
    "    pass\n",
    "try:\n",
    "    DensityMatrix(rho, dims=5)\n",
    "except QiskitError:\n",
    "    pass"
   ]
  }
 ],
 "metadata": {
  "kernelspec": {
   "display_name": "Python 3 (ipykernel)",
   "language": "python",
   "name": "python3"
  },
  "language_info": {
   "codemirror_mode": {
    "name": "ipython",
    "version": 3
   },
   "file_extension": ".py",
   "mimetype": "text/x-python",
   "name": "python",
   "nbconvert_exporter": "python",
   "pygments_lexer": "ipython3",
   "version": "3.9.13"
  }
 },
 "nbformat": 4,
 "nbformat_minor": 5
}
