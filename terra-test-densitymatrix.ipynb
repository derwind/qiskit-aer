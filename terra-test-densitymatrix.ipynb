{
 "cells": [
  {
   "cell_type": "code",
   "execution_count": null,
   "id": "12f1990d-29a5-42aa-a72a-b96d06f710e2",
   "metadata": {},
   "outputs": [],
   "source": [
    "import numpy as np\n",
    "from numpy.testing import assert_allclose\n",
    "\n",
    "from qiskit import QiskitError\n",
    "from qiskit import QuantumRegister, QuantumCircuit\n",
    "from qiskit.circuit.library import HGate, QFT\n",
    "\n",
    "from qiskit.quantum_info.random import random_unitary, random_density_matrix, random_pauli\n",
    "from qiskit.quantum_info.states import DensityMatrix, Statevector\n",
    "from qiskit.quantum_info.operators.operator import Operator\n",
    "from qiskit.quantum_info.operators.symplectic import Pauli, SparsePauliOp"
   ]
  },
  {
   "cell_type": "code",
   "execution_count": null,
   "id": "d60f0ef6-ea26-4753-bd28-ffaeee5c00d9",
   "metadata": {},
   "outputs": [],
   "source": [
    "def rand_vec(n, normalize=False):\n",
    "    \"\"\"Return complex vector or statevector\"\"\"\n",
    "    seed = np.random.randint(0, np.iinfo(np.int32).max)\n",
    "    rng = np.random.default_rng(seed)\n",
    "    vec = rng.random(n) + 1j * rng.random(n)\n",
    "    if normalize:\n",
    "        vec /= np.sqrt(np.dot(vec, np.conj(vec)))\n",
    "    return vec\n",
    "\n",
    "def rand_rho(n):\n",
    "        \"\"\"Return random pure state density matrix\"\"\"\n",
    "        rho = rand_vec(n, normalize=True)\n",
    "        return np.outer(rho, np.conjugate(rho))\n",
    "\n",
    "def assertEqual(a, b):\n",
    "    assert a == b\n",
    "\n",
    "def assertTrue(a):\n",
    "    assert a == True\n",
    "\n",
    "def assertFalse(a):\n",
    "    assert a == False\n",
    "\n",
    "def assertRaises(exception, func, *args):\n",
    "    try:\n",
    "        func(*args)\n",
    "    except exception:\n",
    "        pass"
   ]
  },
  {
   "cell_type": "code",
   "execution_count": null,
   "id": "56938248-2b53-4b9d-9207-0f6747e81e92",
   "metadata": {},
   "outputs": [],
   "source": [
    "print(np.sum([np.abs(a)**2 for a in rand_vec(3, True)]))\n",
    "print(np.trace(rand_rho(3)))"
   ]
  },
  {
   "cell_type": "code",
   "execution_count": null,
   "id": "88932165-addf-4667-98d1-9c8018d77c3e",
   "metadata": {},
   "outputs": [],
   "source": [
    "\"\"\"Test subsystem initialization from N-qubit array.\"\"\"\n",
    "# Test automatic inference of qubit subsystems\n",
    "rho = rand_rho(8)\n",
    "for dims in [None, 8]:\n",
    "    state = DensityMatrix(rho, dims=dims)\n",
    "    assert_allclose(state.data, rho)\n",
    "    assert state.dim == 8\n",
    "    assert state.dims() == (2, 2, 2)\n",
    "    assert state.num_qubits == 3"
   ]
  },
  {
   "cell_type": "code",
   "execution_count": null,
   "id": "74e55c81-30b2-48b4-978d-2ebc584acb83",
   "metadata": {},
   "outputs": [],
   "source": [
    "\"\"\"Test initialization from array.\"\"\"\n",
    "rho = rand_rho(3)\n",
    "state = DensityMatrix(rho)\n",
    "assert_allclose(state.data, rho)\n",
    "assert state.dim == 3\n",
    "assert state.dims() == (3,)\n",
    "assert state.num_qubits == None\n",
    "\n",
    "rho = rand_rho(2 * 3 * 4)\n",
    "state = DensityMatrix(rho, dims=[2, 3, 4])\n",
    "assert_allclose(state.data, rho)\n",
    "assert state.dim == 2 * 3 * 4\n",
    "assert state.dims() == (2, 3, 4)\n",
    "assert state.num_qubits == None"
   ]
  },
  {
   "cell_type": "code",
   "execution_count": null,
   "id": "b9b642aa-e672-4e52-a767-d10e6c6499ca",
   "metadata": {},
   "outputs": [],
   "source": [
    "\"\"\"Test initialization exception from array.\"\"\"\n",
    "rho = rand_rho(4)\n",
    "try:\n",
    "    DensityMatrix(rho, dims=[4, 2])\n",
    "except QiskitError:\n",
    "    pass\n",
    "try:\n",
    "    DensityMatrix(rho, dims=[2, 4])\n",
    "except QiskitError:\n",
    "    pass\n",
    "try:\n",
    "    DensityMatrix(rho, dims=5)\n",
    "except QiskitError:\n",
    "    pass"
   ]
  },
  {
   "cell_type": "code",
   "execution_count": null,
   "id": "0184098e-aed1-4098-be57-b70cb05c0ab9",
   "metadata": {},
   "outputs": [],
   "source": [
    "\"\"\"Test initialization from DensityMatrix.\"\"\"\n",
    "rho1 = DensityMatrix(rand_rho(4))\n",
    "rho2 = DensityMatrix(rho1)\n",
    "assert rho1 == rho2"
   ]
  },
  {
   "cell_type": "code",
   "execution_count": null,
   "id": "54e4181e-4579-4eb5-926d-2f70969cf878",
   "metadata": {},
   "outputs": [],
   "source": [
    " \"\"\"Test initialization from DensityMatrix.\"\"\"\n",
    "vec = rand_vec(4)\n",
    "target = DensityMatrix(np.outer(vec, np.conjugate(vec)))\n",
    "rho = DensityMatrix(Statevector(vec))\n",
    "assert rho == target"
   ]
  },
  {
   "cell_type": "code",
   "execution_count": null,
   "id": "f5811800-a633-4d72-92de-7b394c5ff561",
   "metadata": {},
   "outputs": [],
   "source": [
    "\"\"\"Test initialization from a circuit.\"\"\"\n",
    "# random unitaries\n",
    "u0 = random_unitary(2).data\n",
    "u1 = random_unitary(2).data\n",
    "# add to circuit\n",
    "qr = QuantumRegister(2)\n",
    "circ = QuantumCircuit(qr)\n",
    "circ.unitary(u0, [qr[0]])\n",
    "circ.unitary(u1, [qr[1]])\n",
    "target_vec = Statevector(np.kron(u1, u0).dot([1, 0, 0, 0]))\n",
    "target = DensityMatrix(target_vec)\n",
    "rho = DensityMatrix(circ)\n",
    "assert rho == target\n",
    "\n",
    "# Test tensor product of 1-qubit gates\n",
    "circuit = QuantumCircuit(3)\n",
    "circuit.h(0)\n",
    "circuit.x(1)\n",
    "circuit.ry(np.pi / 2, 2)\n",
    "target = DensityMatrix.from_label(\"000\").evolve(Operator(circuit))\n",
    "rho = DensityMatrix(circuit)\n",
    "assert rho == target\n",
    "\n",
    "# Test decomposition of Controlled-Phase gate\n",
    "lam = np.pi / 4\n",
    "circuit = QuantumCircuit(2)\n",
    "circuit.h(0)\n",
    "circuit.h(1)\n",
    "circuit.cp(lam, 0, 1)\n",
    "target = DensityMatrix.from_label(\"00\").evolve(Operator(circuit))\n",
    "rho = DensityMatrix(circuit)\n",
    "assert rho == target"
   ]
  },
  {
   "cell_type": "code",
   "execution_count": null,
   "id": "5435f298-263c-46e2-820c-14eb5e276302",
   "metadata": {},
   "outputs": [],
   "source": [
    "\"\"\"Test initialization from a circuit.\"\"\"\n",
    "# random unitaries\n",
    "u0 = random_unitary(2).data\n",
    "u1 = random_unitary(2).data\n",
    "# add to circuit\n",
    "qr = QuantumRegister(2)\n",
    "circ = QuantumCircuit(qr)\n",
    "circ.unitary(u0, [qr[0]])\n",
    "circ.unitary(u1, [qr[1]])\n",
    "\n",
    "# Test decomposition of controlled-H gate\n",
    "circuit = QuantumCircuit(2)\n",
    "circ.x(0)\n",
    "circuit.ch(0, 1)\n",
    "target = DensityMatrix.from_label(\"00\").evolve(Operator(circuit))\n",
    "rho = DensityMatrix.from_instruction(circuit)\n",
    "assertEqual(rho, target)\n",
    "\n",
    "# Test initialize instruction\n",
    "init = Statevector([1, 0, 0, 1j]) / np.sqrt(2)\n",
    "target = DensityMatrix(init)\n",
    "circuit = QuantumCircuit(2)\n",
    "circuit.initialize(init.data, [0, 1])\n",
    "rho = DensityMatrix.from_instruction(circuit)\n",
    "assertEqual(rho, target)\n",
    "\n",
    "# Test reset instruction\n",
    "target = DensityMatrix([1, 0])\n",
    "circuit = QuantumCircuit(1)\n",
    "circuit.h(0)\n",
    "circuit.reset(0)\n",
    "rho = DensityMatrix.from_instruction(circuit)\n",
    "assertEqual(rho, target)"
   ]
  },
  {
   "cell_type": "code",
   "execution_count": null,
   "id": "67ecd264-1450-4e4d-bf3f-4bb876ec94a3",
   "metadata": {},
   "outputs": [],
   "source": [
    "\"\"\"Test initialization from an instruction.\"\"\"\n",
    "target_vec = Statevector(np.dot(HGate().to_matrix(), [1, 0]))\n",
    "target = DensityMatrix(target_vec)\n",
    "rho = DensityMatrix.from_instruction(HGate())\n",
    "assertEqual(rho, target)"
   ]
  },
  {
   "cell_type": "code",
   "execution_count": null,
   "id": "5a064683-a09c-47d4-bc57-85788a3f9d16",
   "metadata": {},
   "outputs": [],
   "source": [
    "\"\"\"Test initialization from a label\"\"\"\n",
    "x_p = DensityMatrix(np.array([[0.5, 0.5], [0.5, 0.5]]))\n",
    "x_m = DensityMatrix(np.array([[0.5, -0.5], [-0.5, 0.5]]))\n",
    "y_p = DensityMatrix(np.array([[0.5, -0.5j], [0.5j, 0.5]]))\n",
    "y_m = DensityMatrix(np.array([[0.5, 0.5j], [-0.5j, 0.5]]))\n",
    "z_p = DensityMatrix(np.diag([1, 0]))\n",
    "z_m = DensityMatrix(np.diag([0, 1]))\n",
    "\n",
    "label = \"0+r\"\n",
    "target = z_p.tensor(x_p).tensor(y_p)\n",
    "assertEqual(target, DensityMatrix.from_label(label))\n",
    "\n",
    "label = \"-l1\"\n",
    "target = x_m.tensor(y_m).tensor(z_m)\n",
    "assertEqual(target, DensityMatrix.from_label(label))"
   ]
  },
  {
   "cell_type": "code",
   "execution_count": null,
   "id": "7b5b123f-ab02-481b-adcb-d13e60415eec",
   "metadata": {},
   "outputs": [],
   "source": [
    "\"\"\"Test __eq__ method\"\"\"\n",
    "for _ in range(10):\n",
    "    rho = rand_rho(4)\n",
    "    assertEqual(DensityMatrix(rho), DensityMatrix(rho.tolist()))"
   ]
  },
  {
   "cell_type": "code",
   "execution_count": null,
   "id": "90d468db-99a0-44c9-ace2-ca89818271c3",
   "metadata": {},
   "outputs": [],
   "source": [
    "\"\"\"Test DensityMatrix copy method\"\"\"\n",
    "for _ in range(5):\n",
    "    rho = rand_rho(4)\n",
    "    orig = DensityMatrix(rho)\n",
    "    cpy = orig.copy()\n",
    "    cpy._data[0] += 1.0\n",
    "    assertFalse(cpy == orig)"
   ]
  },
  {
   "cell_type": "code",
   "execution_count": null,
   "id": "444a50b0-2ea7-49aa-b5db-6188f9ce14bd",
   "metadata": {},
   "outputs": [],
   "source": [
    "\"\"\"Test is_valid method.\"\"\"\n",
    "state = DensityMatrix(np.eye(2))\n",
    "assertFalse(state.is_valid())\n",
    "for _ in range(10):\n",
    "    state = DensityMatrix(rand_rho(4))\n",
    "    assertTrue(state.is_valid())"
   ]
  },
  {
   "cell_type": "code",
   "execution_count": null,
   "id": "e4afa838-e2db-4b2b-b9c8-0495ac18d716",
   "metadata": {},
   "outputs": [],
   "source": [
    "\"\"\"Test to_operator method for returning projector.\"\"\"\n",
    "for _ in range(10):\n",
    "    rho = rand_rho(4)\n",
    "    target = Operator(rho)\n",
    "    op = DensityMatrix(rho).to_operator()\n",
    "    assertEqual(op, target)"
   ]
  },
  {
   "cell_type": "code",
   "execution_count": null,
   "id": "2ba2f4ea-1998-4b1b-a2be-992dda5934fd",
   "metadata": {},
   "outputs": [],
   "source": [
    "\"\"\"Test evolve method for operators.\"\"\"\n",
    "for _ in range(10):\n",
    "    op = random_unitary(4)\n",
    "    rho = rand_rho(4)\n",
    "    target = DensityMatrix(np.dot(op.data, rho).dot(op.adjoint().data))\n",
    "    evolved = DensityMatrix(rho).evolve(op)\n",
    "    assertEqual(target, evolved)"
   ]
  },
  {
   "cell_type": "code",
   "execution_count": null,
   "id": "d67bf9f7-4415-4c8f-b08d-dcd706c3a2b6",
   "metadata": {},
   "outputs": [],
   "source": [
    "\"\"\"Test subsystem evolve method for operators.\"\"\"\n",
    "# Test evolving single-qubit of 3-qubit system\n",
    "for _ in range(5):\n",
    "    rho = rand_rho(8)\n",
    "    state = DensityMatrix(rho)\n",
    "    op0 = random_unitary(2)\n",
    "    op1 = random_unitary(2)\n",
    "    op2 = random_unitary(2)\n",
    "\n",
    "    # Test evolve on 1-qubit\n",
    "    op = op0\n",
    "    op_full = Operator(np.eye(4)).tensor(op)\n",
    "    target = DensityMatrix(np.dot(op_full.data, rho).dot(op_full.adjoint().data))\n",
    "    assertEqual(state.evolve(op, qargs=[0]), target)\n",
    "\n",
    "    # Evolve on qubit 1\n",
    "    op_full = Operator(np.eye(2)).tensor(op).tensor(np.eye(2))\n",
    "    target = DensityMatrix(np.dot(op_full.data, rho).dot(op_full.adjoint().data))\n",
    "    assertEqual(state.evolve(op, qargs=[1]), target)\n",
    "\n",
    "    # Evolve on qubit 2\n",
    "    op_full = op.tensor(np.eye(4))\n",
    "    target = DensityMatrix(np.dot(op_full.data, rho).dot(op_full.adjoint().data))\n",
    "    assertEqual(state.evolve(op, qargs=[2]), target)\n",
    "\n",
    "    # Test evolve on 2-qubits\n",
    "    op = op1.tensor(op0)\n",
    "\n",
    "    # Evolve on qubits [0, 2]\n",
    "    op_full = op1.tensor(np.eye(2)).tensor(op0)\n",
    "    target = DensityMatrix(np.dot(op_full.data, rho).dot(op_full.adjoint().data))\n",
    "    assertEqual(state.evolve(op, qargs=[0, 2]), target)\n",
    "\n",
    "    # Evolve on qubits [2, 0]\n",
    "    op_full = op0.tensor(np.eye(2)).tensor(op1)\n",
    "    target = DensityMatrix(np.dot(op_full.data, rho).dot(op_full.adjoint().data))\n",
    "    assertEqual(state.evolve(op, qargs=[2, 0]), target)\n",
    "\n",
    "    # Test evolve on 3-qubits\n",
    "    op = op2.tensor(op1).tensor(op0)\n",
    "\n",
    "    # Evolve on qubits [0, 1, 2]\n",
    "    op_full = op\n",
    "    target = DensityMatrix(np.dot(op_full.data, rho).dot(op_full.adjoint().data))\n",
    "    assertEqual(state.evolve(op, qargs=[0, 1, 2]), target)\n",
    "\n",
    "    # Evolve on qubits [2, 1, 0]\n",
    "    op_full = op0.tensor(op1).tensor(op2)\n",
    "    target = DensityMatrix(np.dot(op_full.data, rho).dot(op_full.adjoint().data))\n",
    "    assertEqual(state.evolve(op, qargs=[2, 1, 0]), target)"
   ]
  },
  {
   "cell_type": "code",
   "execution_count": null,
   "id": "0a454186-122f-4646-975b-8f1b9a0f2b74",
   "metadata": {},
   "outputs": [],
   "source": [
    "\"\"\"Test conjugate method.\"\"\"\n",
    "for _ in range(10):\n",
    "    rho = rand_rho(4)\n",
    "    target = DensityMatrix(np.conj(rho))\n",
    "    state = DensityMatrix(rho).conjugate()\n",
    "    assertEqual(state, target)"
   ]
  },
  {
   "cell_type": "code",
   "execution_count": null,
   "id": "3b3ca640-92fa-4a3e-a619-085c69d9c47a",
   "metadata": {},
   "outputs": [],
   "source": [
    "\"\"\"Test expand method.\"\"\"\n",
    "for _ in range(10):\n",
    "    rho0 = rand_rho(2)\n",
    "    rho1 = rand_rho(3)\n",
    "    target = np.kron(rho1, rho0)\n",
    "    state = DensityMatrix(rho0).expand(DensityMatrix(rho1))\n",
    "    assertEqual(state.dim, 6)\n",
    "    assertEqual(state.dims(), (2, 3))\n",
    "    assert_allclose(state.data, target)"
   ]
  },
  {
   "cell_type": "code",
   "execution_count": null,
   "id": "3eef44ab-c256-48b3-ac8d-b289e3ea4c1b",
   "metadata": {},
   "outputs": [],
   "source": [
    "\"\"\"Test tensor method.\"\"\"\n",
    "for _ in range(10):\n",
    "    rho0 = rand_rho(2)\n",
    "    rho1 = rand_rho(3)\n",
    "    target = np.kron(rho0, rho1)\n",
    "    state = DensityMatrix(rho0).tensor(DensityMatrix(rho1))\n",
    "    assertEqual(state.dim, 6)\n",
    "    assertEqual(state.dims(), (3, 2))\n",
    "    assert_allclose(state.data, target)"
   ]
  },
  {
   "cell_type": "code",
   "execution_count": null,
   "id": "dcd4d487-fd9a-4107-82a0-0cdc7e67d47c",
   "metadata": {},
   "outputs": [],
   "source": [
    "\"\"\"Test add method.\"\"\"\n",
    "for _ in range(10):\n",
    "    rho0 = rand_rho(4)\n",
    "    rho1 = rand_rho(4)\n",
    "    state0 = DensityMatrix(rho0)\n",
    "    state1 = DensityMatrix(rho1)\n",
    "    assertEqual(state0 + state1, DensityMatrix(rho0 + rho1))"
   ]
  },
  {
   "cell_type": "code",
   "execution_count": null,
   "id": "d00a3c7f-adaf-4775-993e-3f9c4bc5bc17",
   "metadata": {},
   "outputs": [],
   "source": [
    "\"\"\"Test add method raises exceptions.\"\"\"\n",
    "state1 = DensityMatrix(rand_rho(2))\n",
    "state2 = DensityMatrix(rand_rho(3))\n",
    "assertRaises(QiskitError, state1.__add__, state2)"
   ]
  },
  {
   "cell_type": "code",
   "execution_count": null,
   "id": "91253cc4-a4bb-46e8-ab2b-9743621a0dba",
   "metadata": {},
   "outputs": [],
   "source": [
    "\"\"\"Test subtract method.\"\"\"\n",
    "for _ in range(10):\n",
    "    rho0 = rand_rho(4)\n",
    "    rho1 = rand_rho(4)\n",
    "    state0 = DensityMatrix(rho0)\n",
    "    state1 = DensityMatrix(rho1)\n",
    "    assertEqual(state0 - state1, DensityMatrix(rho0 - rho1))"
   ]
  },
  {
   "cell_type": "code",
   "execution_count": null,
   "id": "1aa9a886-d64a-4265-9b71-e086d6c43dac",
   "metadata": {},
   "outputs": [],
   "source": [
    "\"\"\"Test multiply method.\"\"\"\n",
    "for _ in range(10):\n",
    "    rho = rand_rho(4)\n",
    "    state = DensityMatrix(rho)\n",
    "    val = np.random.rand() + 1j * np.random.rand()\n",
    "    assertEqual(val * state, DensityMatrix(val * state))"
   ]
  },
  {
   "cell_type": "code",
   "execution_count": null,
   "id": "b05fa8b2-8d30-41e9-87c6-e915a16bb2a8",
   "metadata": {},
   "outputs": [],
   "source": [
    "\"\"\"Test negate method\"\"\"\n",
    "for _ in range(10):\n",
    "    rho = rand_rho(4)\n",
    "    state = DensityMatrix(rho)\n",
    "    assertEqual(-state, DensityMatrix(-1 * rho))"
   ]
  }
 ],
 "metadata": {
  "kernelspec": {
   "display_name": "Python 3 (ipykernel)",
   "language": "python",
   "name": "python3"
  },
  "language_info": {
   "codemirror_mode": {
    "name": "ipython",
    "version": 3
   },
   "file_extension": ".py",
   "mimetype": "text/x-python",
   "name": "python",
   "nbconvert_exporter": "python",
   "pygments_lexer": "ipython3",
   "version": "3.9.13"
  }
 },
 "nbformat": 4,
 "nbformat_minor": 5
}
