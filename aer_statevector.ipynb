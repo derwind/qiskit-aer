{
 "cells": [
  {
   "cell_type": "code",
   "execution_count": null,
   "id": "2b9ac5f3-6c6d-49e6-a9bf-611e8b72ac7d",
   "metadata": {},
   "outputs": [],
   "source": [
    "import numpy as np\n",
    "import inspect\n",
    "from qiskit.quantum_info import Statevector\n",
    "from qiskit_aer.quantum_info import AerStatevector\n",
    "from qiskit_aer.quantum_info import AerDensityMatrix"
   ]
  },
  {
   "cell_type": "code",
   "execution_count": null,
   "id": "81755f9e-aa67-44a9-9258-c2f05cbfd41c",
   "metadata": {},
   "outputs": [],
   "source": [
    "sv = AerStatevector([1/np.sqrt(2), 0, 0, -1/np.sqrt(2)])\n",
    "# aer_state.py\n",
    "# binding.cc\n",
    "#print(type(sv._aer_state._native_state), dir(sv._aer_state._native_state))\n",
    "#print(sv._aer_state._native_state.num_of_qubits())\n",
    "#sv.draw(output='latex')"
   ]
  },
  {
   "cell_type": "code",
   "execution_count": null,
   "id": "0dd83d56-095f-4ade-b1e4-74a93270a8c2",
   "metadata": {},
   "outputs": [],
   "source": [
    "# added methods in AerStatevector\n",
    "\n",
    "# https://stackoverflow.com/questions/9436681/how-to-detect-method-overloading-in-subclasses-in-python\n",
    "def isOverriddenFunc(func):\n",
    "    obj = func.__self__\n",
    "    prntM = getattr(super(type(obj), obj), func.__name__)\n",
    "\n",
    "    return func.__func__ != prntM.__func__\n",
    "\n",
    "for x in inspect.getmembers(sv, inspect.ismethod):\n",
    "    method = getattr(sv, x[0])\n",
    "    try:\n",
    "        if isOverriddenFunc(method):\n",
    "            print(f'{x[0]} is overridden')\n",
    "    except:\n",
    "        print(f'{x[0]} is an original method of {sv.__class__.__name__}')"
   ]
  }
 ],
 "metadata": {
  "kernelspec": {
   "display_name": "Python 3 (ipykernel)",
   "language": "python",
   "name": "python3"
  },
  "language_info": {
   "codemirror_mode": {
    "name": "ipython",
    "version": 3
   },
   "file_extension": ".py",
   "mimetype": "text/x-python",
   "name": "python",
   "nbconvert_exporter": "python",
   "pygments_lexer": "ipython3",
   "version": "3.9.13"
  }
 },
 "nbformat": 4,
 "nbformat_minor": 5
}
